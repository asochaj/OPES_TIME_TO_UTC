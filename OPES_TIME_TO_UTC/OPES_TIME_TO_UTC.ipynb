{
 "cells": [
  {
   "cell_type": "code",
   "execution_count": 1,
   "id": "0d331a23",
   "metadata": {},
   "outputs": [],
   "source": [
    "# Import libraries\n",
    "import numpy as np\n",
    "import pandas as pd\n",
    "pd.set_option('display.max_columns', None)\n",
    "import warnings\n",
    "warnings.filterwarnings('ignore')\n",
    "from datetime import datetime\n",
    "import pytz\n"
   ]
  },
  {
   "cell_type": "code",
   "execution_count": 2,
   "id": "c8386264",
   "metadata": {},
   "outputs": [],
   "source": [
    "# Define list with names of columns in dataframes\n",
    "columns = ['Czas', 'Przepływ WP', 'Tzas WP', 'Tpow WP', 'Energia',\n",
    "       'Tzewnetrzna', 'Tzas np.', 'Odchylka Tzas np - Twyl', '% otw. Zaworu']"
   ]
  },
  {
   "cell_type": "code",
   "execution_count": 3,
   "id": "a3e01cbb",
   "metadata": {},
   "outputs": [],
   "source": [
    "# Read data from csv\n",
    "dataset = pd.read_csv(r\"Asnyka4_01.10.2022_01.03.2023.csv\",\n",
    "                    engine = 'python',\n",
    "                     sep = ';',\n",
    "                      header = 1)\n",
    "\n",
    "# Deleting rows with unnecessary string data (1) and empty cells at the end (-10)\n",
    "datasetAsnyk = dataset.iloc[1:-10,:].copy()\n",
    "\n",
    "# Change names of columns\n",
    "datasetAsnyk.columns = columns"
   ]
  },
  {
   "cell_type": "code",
   "execution_count": 4,
   "id": "5e90ba8b",
   "metadata": {},
   "outputs": [],
   "source": [
    "# Read data from csv\n",
    "dataset = pd.read_csv(r\"Zolkiewskiego6_01.10.2022_01.03.2023.csv\",\n",
    "                    engine = 'python',\n",
    "                     sep = ';',\n",
    "                      header = 1)\n",
    "# Deleting rows with unnecessary string data (1) and empty cells at the end (-10)\n",
    "datasetZolk = dataset.iloc[1:-10,:].copy()\n",
    "\n",
    "# Change names of columns\n",
    "datasetZolk.columns = columns"
   ]
  },
  {
   "cell_type": "code",
   "execution_count": 5,
   "id": "9cd0429d",
   "metadata": {},
   "outputs": [],
   "source": [
    "# Make a list of dataframes\n",
    "dataframes = [datasetAsnyk, datasetZolk]\n",
    "\n",
    "#Loop through dataframes\n",
    "for dataframe in dataframes:\n",
    "\n",
    "    # Take data from given time column into numpy array\n",
    "    czasAr = dataframe.iloc[:,0].values\n",
    "\n",
    "    # Define empty list for created UTC time\n",
    "    czasUTC = []\n",
    "    \n",
    "    #Loop thorugh elements in time numpy array\n",
    "    for dt_str in czasAr:\n",
    "        \n",
    "        #Define format of data\n",
    "        format  = \"%d.%m.%Y %H:%M\"\n",
    "\n",
    "        # Create datetime object in local timezone\n",
    "        local_dt = datetime.strptime(dt_str, format)\n",
    "\n",
    "        # Convert local datetime to UTC time-zone datetime\n",
    "        dt_utc = local_dt.astimezone(pytz.UTC)\n",
    "\n",
    "        # Edit timestamp\n",
    "        utc_dt = str(dt_utc)[:-9]\n",
    "        \n",
    "        # Add timestamp into timestamps list\n",
    "        czasUTC.append(utc_dt)\n",
    "\n",
    "    # Add new column with UTC time into dataframe\n",
    "    dataframe['CzasUTC'] = czasUTC\n",
    "\n",
    "\n",
    "    # Define the order of column\n",
    "columns = ['Czas','CzasUTC', 'Przepływ WP', 'Tzas WP', 'Tpow WP', 'Energia', 'Tzewnetrzna',\n",
    "       'Tzas np.', 'Odchylka Tzas np - Twyl', '% otw. Zaworu']\n",
    "\n",
    "# Create a new dataframe with given columns order\n",
    "datasetAsnyk = datasetAsnyk[columns].copy()\n",
    "datasetZolk = datasetZolk[columns].copy()"
   ]
  },
  {
   "cell_type": "code",
   "execution_count": 6,
   "id": "a14fddb3",
   "metadata": {},
   "outputs": [],
   "source": [
    "#Save dataframe into .csv\n",
    "datasetAsnyk.to_csv(r'Asnyka4_01.10.2022_01.03.2023_UTC.csv',\n",
    "                   index = False,\n",
    "                   encoding = 'utf-8-sig',\n",
    "                   sep = ';')\n",
    "\n",
    "datasetZolk.to_csv(r\"Zolkiewskiego6_01.10.2022_01.03.2023_UTC.csv\",\n",
    "                  index = False,\n",
    "                   encoding = 'utf-8-sig',\n",
    "                   sep = ';')"
   ]
  },
  {
   "cell_type": "code",
   "execution_count": null,
   "id": "23d16207",
   "metadata": {},
   "outputs": [],
   "source": []
  }
 ],
 "metadata": {
  "kernelspec": {
   "display_name": "Python 3 (ipykernel)",
   "language": "python",
   "name": "python3"
  },
  "language_info": {
   "codemirror_mode": {
    "name": "ipython",
    "version": 3
   },
   "file_extension": ".py",
   "mimetype": "text/x-python",
   "name": "python",
   "nbconvert_exporter": "python",
   "pygments_lexer": "ipython3",
   "version": "3.9.7"
  }
 },
 "nbformat": 4,
 "nbformat_minor": 5
}
